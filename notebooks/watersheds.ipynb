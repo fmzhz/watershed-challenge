{
 "cells": [
  {
   "cell_type": "code",
   "execution_count": 1,
   "id": "d31d96c1-a266-4903-a815-5eb19d3e256a",
   "metadata": {},
   "outputs": [],
   "source": [
    "import os\n",
    "import urllib\n",
    "import zipfile\n",
    "import numpy as np\n",
    "import pandas as pd\n",
    "\n",
    "DATA_PATH = os.path.join('..','data')\n",
    "DOWNLOAD_URL = 'https://github.com/SpikeLab-CL/challenge_watershed/raw/main/flux.csv.zip'\n",
    "FILENAME = 'flux.csv'\n",
    "\n",
    "def fetch_data(data_path : str = DATA_PATH, download_url : str = DOWNLOAD_URL) -> None:\n",
    "    \"\"\"\n",
    "    Download the requested file to the specified folder.\n",
    "    \n",
    "    Parameters\n",
    "    ----------\n",
    "    data_path : string\n",
    "        Folder path.\n",
    "    download_url : string\n",
    "        File URL.\n",
    "        \n",
    "    Returns\n",
    "    -------\n",
    "    None\n",
    "    \"\"\"\n",
    "    zip_path = os.path.join(data_path, 'flux.csv.zip')\n",
    "    urllib.request.urlretrieve(download_url, zip_path)\n",
    "    with zipfile.ZipFile(zip_path) as zfile:\n",
    "        zfile.extractall(data_path)    \n",
    "        \n",
    "def load_data(data_path : str = DATA_PATH, filename : str = FILENAME) -> pd.DataFrame:\n",
    "    \"\"\"\n",
    "    Obtain DataFrame from file with parsed dates and sorted by them.\n",
    "    \n",
    "    Parameters\n",
    "    ----------\n",
    "    data_path : string\n",
    "        Folder path.\n",
    "    filename : string\n",
    "        Filename.\n",
    "        \n",
    "    Returns\n",
    "    -------\n",
    "    pd.DataFrame\n",
    "    \"\"\"\n",
    "\n",
    "    file_path = os.path.join(data_path, filename)\n",
    "    df = pd.read_csv(file_path)\n",
    "    df['date'] = pd.to_datetime(df['date'],\n",
    "                                format='%Y-%m-%d',\n",
    "                                errors='coerce')\n",
    "    df = df.sort_values(by=['date']).reset_index(drop=True)\n",
    "    return df"
   ]
  },
  {
   "cell_type": "code",
   "execution_count": 2,
   "id": "5eb8b78a-5168-45b7-b341-7e80c0dcb0e0",
   "metadata": {},
   "outputs": [],
   "source": [
    "fetch_data()"
   ]
  },
  {
   "cell_type": "code",
   "execution_count": null,
   "id": "7c7458fa-22bb-483e-8670-470dffea7f86",
   "metadata": {},
   "outputs": [],
   "source": [
    "df = load_data()"
   ]
  }
 ],
 "metadata": {
  "kernelspec": {
   "display_name": "Python 3",
   "language": "python",
   "name": "python3"
  },
  "language_info": {
   "codemirror_mode": {
    "name": "ipython",
    "version": 3
   },
   "file_extension": ".py",
   "mimetype": "text/x-python",
   "name": "python",
   "nbconvert_exporter": "python",
   "pygments_lexer": "ipython3",
   "version": "3.10.5"
  }
 },
 "nbformat": 4,
 "nbformat_minor": 5
}
